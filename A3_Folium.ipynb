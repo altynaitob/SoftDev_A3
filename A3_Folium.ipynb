{
 "cells": [
  {
   "cell_type": "markdown",
   "id": "41d1e981",
   "metadata": {},
   "source": [
    "# A3: Folium"
   ]
  },
  {
   "cell_type": "markdown",
   "id": "bacd068f",
   "metadata": {},
   "source": [
    "We are planning to create a web map (sport facilities in Salzburg, and routes to them) for our final project, the main library that we are using is Folium. "
   ]
  },
  {
   "cell_type": "markdown",
   "id": "84c31a6e",
   "metadata": {},
   "source": [
    "Firstly, using Folium I would like to learn creating Markers – or in our case sport facilities in city. \n",
    "Secondly, I would like to learn creating Popups. In this notebook I will learn how to display both single and multiple markers on a Folium map.\n"
   ]
  },
  {
   "cell_type": "code",
   "execution_count": 1,
   "id": "06b9e382",
   "metadata": {},
   "outputs": [],
   "source": [
    "import folium # don't forget the most important part here, otherwise the other cells don't work!"
   ]
  },
  {
   "cell_type": "markdown",
   "id": "80f06b70",
   "metadata": {},
   "source": [
    "### Creating Markers"
   ]
  },
  {
   "cell_type": "markdown",
   "id": "18cc9bc0",
   "metadata": {},
   "source": [
    "Docs: https://leafletjs.com/reference.html#marker\n"
   ]
  },
  {
   "cell_type": "code",
   "execution_count": 2,
   "id": "f6981e36",
   "metadata": {},
   "outputs": [
    {
     "data": {
      "text/html": [
       "<div style=\"width:100%;\"><div style=\"position:relative;width:100%;height:0;padding-bottom:60%;\"><span style=\"color:#565656\">Make this Notebook Trusted to load map: File -> Trust Notebook</span><iframe srcdoc=\"&lt;!DOCTYPE html&gt;\n",
       "&lt;html&gt;\n",
       "&lt;head&gt;\n",
       "    \n",
       "    &lt;meta http-equiv=&quot;content-type&quot; content=&quot;text/html; charset=UTF-8&quot; /&gt;\n",
       "    \n",
       "        &lt;script&gt;\n",
       "            L_NO_TOUCH = false;\n",
       "            L_DISABLE_3D = false;\n",
       "        &lt;/script&gt;\n",
       "    \n",
       "    &lt;style&gt;html, body {width: 100%;height: 100%;margin: 0;padding: 0;}&lt;/style&gt;\n",
       "    &lt;style&gt;#map {position:absolute;top:0;bottom:0;right:0;left:0;}&lt;/style&gt;\n",
       "    &lt;script src=&quot;https://cdn.jsdelivr.net/npm/leaflet@1.9.3/dist/leaflet.js&quot;&gt;&lt;/script&gt;\n",
       "    &lt;script src=&quot;https://code.jquery.com/jquery-1.12.4.min.js&quot;&gt;&lt;/script&gt;\n",
       "    &lt;script src=&quot;https://cdn.jsdelivr.net/npm/bootstrap@5.2.2/dist/js/bootstrap.bundle.min.js&quot;&gt;&lt;/script&gt;\n",
       "    &lt;script src=&quot;https://cdnjs.cloudflare.com/ajax/libs/Leaflet.awesome-markers/2.0.2/leaflet.awesome-markers.js&quot;&gt;&lt;/script&gt;\n",
       "    &lt;link rel=&quot;stylesheet&quot; href=&quot;https://cdn.jsdelivr.net/npm/leaflet@1.9.3/dist/leaflet.css&quot;/&gt;\n",
       "    &lt;link rel=&quot;stylesheet&quot; href=&quot;https://cdn.jsdelivr.net/npm/bootstrap@5.2.2/dist/css/bootstrap.min.css&quot;/&gt;\n",
       "    &lt;link rel=&quot;stylesheet&quot; href=&quot;https://netdna.bootstrapcdn.com/bootstrap/3.0.0/css/bootstrap.min.css&quot;/&gt;\n",
       "    &lt;link rel=&quot;stylesheet&quot; href=&quot;https://cdn.jsdelivr.net/npm/@fortawesome/fontawesome-free@6.2.0/css/all.min.css&quot;/&gt;\n",
       "    &lt;link rel=&quot;stylesheet&quot; href=&quot;https://cdnjs.cloudflare.com/ajax/libs/Leaflet.awesome-markers/2.0.2/leaflet.awesome-markers.css&quot;/&gt;\n",
       "    &lt;link rel=&quot;stylesheet&quot; href=&quot;https://cdn.jsdelivr.net/gh/python-visualization/folium/folium/templates/leaflet.awesome.rotate.min.css&quot;/&gt;\n",
       "    \n",
       "            &lt;meta name=&quot;viewport&quot; content=&quot;width=device-width,\n",
       "                initial-scale=1.0, maximum-scale=1.0, user-scalable=no&quot; /&gt;\n",
       "            &lt;style&gt;\n",
       "                #map_23958fb9b62b95361b4a608614d9015e {\n",
       "                    position: relative;\n",
       "                    width: 100.0%;\n",
       "                    height: 100.0%;\n",
       "                    left: 0.0%;\n",
       "                    top: 0.0%;\n",
       "                }\n",
       "                .leaflet-container { font-size: 1rem; }\n",
       "            &lt;/style&gt;\n",
       "        \n",
       "&lt;/head&gt;\n",
       "&lt;body&gt;\n",
       "    \n",
       "    \n",
       "            &lt;div class=&quot;folium-map&quot; id=&quot;map_23958fb9b62b95361b4a608614d9015e&quot; &gt;&lt;/div&gt;\n",
       "        \n",
       "&lt;/body&gt;\n",
       "&lt;script&gt;\n",
       "    \n",
       "    \n",
       "            var map_23958fb9b62b95361b4a608614d9015e = L.map(\n",
       "                &quot;map_23958fb9b62b95361b4a608614d9015e&quot;,\n",
       "                {\n",
       "                    center: [47.8095, 13.055],\n",
       "                    crs: L.CRS.EPSG3857,\n",
       "                    zoom: 13,\n",
       "                    zoomControl: true,\n",
       "                    preferCanvas: false,\n",
       "                }\n",
       "            );\n",
       "\n",
       "            \n",
       "\n",
       "        \n",
       "    \n",
       "            var tile_layer_88f23c555e7b566d3743fc24c9b73479 = L.tileLayer(\n",
       "                &quot;https://{s}.tile.openstreetmap.org/{z}/{x}/{y}.png&quot;,\n",
       "                {&quot;attribution&quot;: &quot;Data by \\u0026copy; \\u003ca target=\\&quot;_blank\\&quot; href=\\&quot;http://openstreetmap.org\\&quot;\\u003eOpenStreetMap\\u003c/a\\u003e, under \\u003ca target=\\&quot;_blank\\&quot; href=\\&quot;http://www.openstreetmap.org/copyright\\&quot;\\u003eODbL\\u003c/a\\u003e.&quot;, &quot;detectRetina&quot;: false, &quot;maxNativeZoom&quot;: 18, &quot;maxZoom&quot;: 18, &quot;minZoom&quot;: 0, &quot;noWrap&quot;: false, &quot;opacity&quot;: 1, &quot;subdomains&quot;: &quot;abc&quot;, &quot;tms&quot;: false}\n",
       "            ).addTo(map_23958fb9b62b95361b4a608614d9015e);\n",
       "        \n",
       "    \n",
       "            var marker_c009e71e1716925438fd2d8f58b17a43 = L.marker(\n",
       "                [47.77789997024448, 13.064662590648382],\n",
       "                {}\n",
       "            ).addTo(map_23958fb9b62b95361b4a608614d9015e);\n",
       "        \n",
       "    \n",
       "            var marker_e965aa85e3cf2e9f5a65693c762168d5 = L.marker(\n",
       "                [47.78877237313719, 13.035337205966707],\n",
       "                {}\n",
       "            ).addTo(map_23958fb9b62b95361b4a608614d9015e);\n",
       "        \n",
       "    \n",
       "            var marker_61df411242cdfa3a496806c74212edd7 = L.marker(\n",
       "                [47.79056001000092, 13.021003480817049],\n",
       "                {}\n",
       "            ).addTo(map_23958fb9b62b95361b4a608614d9015e);\n",
       "        \n",
       "    \n",
       "            var marker_053c8a09c75d95004dc5c1b30b0cc0fb = L.marker(\n",
       "                [47.76166195768752, 13.06417631727048],\n",
       "                {}\n",
       "            ).addTo(map_23958fb9b62b95361b4a608614d9015e);\n",
       "        \n",
       "    \n",
       "            var marker_8a2e957d3566a8dad3d9c2acbd473c89 = L.marker(\n",
       "                [47.80513118024001, 13.037821054724168],\n",
       "                {}\n",
       "            ).addTo(map_23958fb9b62b95361b4a608614d9015e);\n",
       "        \n",
       "    \n",
       "            var marker_09e08b8507c9f8e53517e3a4a77e0791 = L.marker(\n",
       "                [47.817466503915355, 12.994991541046646],\n",
       "                {}\n",
       "            ).addTo(map_23958fb9b62b95361b4a608614d9015e);\n",
       "        \n",
       "    \n",
       "            var marker_2b7cfa011bb7c467c5eb86424c00301d = L.marker(\n",
       "                [47.795157024582544, 13.055588007213856],\n",
       "                {}\n",
       "            ).addTo(map_23958fb9b62b95361b4a608614d9015e);\n",
       "        \n",
       "&lt;/script&gt;\n",
       "&lt;/html&gt;\" style=\"position:absolute;width:100%;height:100%;left:0;top:0;border:none !important;\" allowfullscreen webkitallowfullscreen mozallowfullscreen></iframe></div></div>"
      ],
      "text/plain": [
       "<folium.folium.Map at 0x112b49dd0>"
      ]
     },
     "execution_count": 2,
     "metadata": {},
     "output_type": "execute_result"
    }
   ],
   "source": [
    "m = folium.Map(location=[47.8095, 13.0550], zoom_start=13, tiles=\"OpenStreetMap\")\n",
    "\n",
    "folium.Marker([47.77789997024448, 13.064662590648382]).add_to(m)\n",
    "\n",
    "folium.Marker([47.78877237313719, 13.035337205966707]).add_to(m)\n",
    "\n",
    "folium.Marker([47.79056001000092, 13.021003480817049]).add_to(m)\n",
    "\n",
    "folium.Marker([47.76166195768752, 13.06417631727048]).add_to(m)\n",
    "\n",
    "folium.Marker([47.80513118024001, 13.037821054724168]).add_to(m)\n",
    "\n",
    "folium.Marker([47.817466503915355, 12.994991541046646]).add_to(m)\n",
    "\n",
    "folium.Marker([47.795157024582544, 13.055588007213856]).add_to(m)\n",
    "\n",
    "m"
   ]
  },
  {
   "cell_type": "markdown",
   "id": "7e621174",
   "metadata": {},
   "source": [
    "### Creating PopUp and Tooltip"
   ]
  },
  {
   "cell_type": "markdown",
   "id": "628cf9a5",
   "metadata": {},
   "source": [
    "Docs: https://leafletjs.com/reference.html#tooltip (ToolTip), https://leafletjs.com/reference.html#popup (PopUp)"
   ]
  },
  {
   "cell_type": "markdown",
   "id": "99f99aab",
   "metadata": {},
   "source": [
    "Using PopUp, ToolTip and CircleMaker we can give more information to users on the sport complexes. Using CircleMaker we can define radiuses and users can see if they are near any sport complexes."
   ]
  },
  {
   "cell_type": "code",
   "execution_count": 3,
   "id": "f646ca4c",
   "metadata": {},
   "outputs": [
    {
     "data": {
      "text/html": [
       "<div style=\"width:100%;\"><div style=\"position:relative;width:100%;height:0;padding-bottom:60%;\"><span style=\"color:#565656\">Make this Notebook Trusted to load map: File -> Trust Notebook</span><iframe srcdoc=\"&lt;!DOCTYPE html&gt;\n",
       "&lt;html&gt;\n",
       "&lt;head&gt;\n",
       "    \n",
       "    &lt;meta http-equiv=&quot;content-type&quot; content=&quot;text/html; charset=UTF-8&quot; /&gt;\n",
       "    \n",
       "        &lt;script&gt;\n",
       "            L_NO_TOUCH = false;\n",
       "            L_DISABLE_3D = false;\n",
       "        &lt;/script&gt;\n",
       "    \n",
       "    &lt;style&gt;html, body {width: 100%;height: 100%;margin: 0;padding: 0;}&lt;/style&gt;\n",
       "    &lt;style&gt;#map {position:absolute;top:0;bottom:0;right:0;left:0;}&lt;/style&gt;\n",
       "    &lt;script src=&quot;https://cdn.jsdelivr.net/npm/leaflet@1.9.3/dist/leaflet.js&quot;&gt;&lt;/script&gt;\n",
       "    &lt;script src=&quot;https://code.jquery.com/jquery-1.12.4.min.js&quot;&gt;&lt;/script&gt;\n",
       "    &lt;script src=&quot;https://cdn.jsdelivr.net/npm/bootstrap@5.2.2/dist/js/bootstrap.bundle.min.js&quot;&gt;&lt;/script&gt;\n",
       "    &lt;script src=&quot;https://cdnjs.cloudflare.com/ajax/libs/Leaflet.awesome-markers/2.0.2/leaflet.awesome-markers.js&quot;&gt;&lt;/script&gt;\n",
       "    &lt;link rel=&quot;stylesheet&quot; href=&quot;https://cdn.jsdelivr.net/npm/leaflet@1.9.3/dist/leaflet.css&quot;/&gt;\n",
       "    &lt;link rel=&quot;stylesheet&quot; href=&quot;https://cdn.jsdelivr.net/npm/bootstrap@5.2.2/dist/css/bootstrap.min.css&quot;/&gt;\n",
       "    &lt;link rel=&quot;stylesheet&quot; href=&quot;https://netdna.bootstrapcdn.com/bootstrap/3.0.0/css/bootstrap.min.css&quot;/&gt;\n",
       "    &lt;link rel=&quot;stylesheet&quot; href=&quot;https://cdn.jsdelivr.net/npm/@fortawesome/fontawesome-free@6.2.0/css/all.min.css&quot;/&gt;\n",
       "    &lt;link rel=&quot;stylesheet&quot; href=&quot;https://cdnjs.cloudflare.com/ajax/libs/Leaflet.awesome-markers/2.0.2/leaflet.awesome-markers.css&quot;/&gt;\n",
       "    &lt;link rel=&quot;stylesheet&quot; href=&quot;https://cdn.jsdelivr.net/gh/python-visualization/folium/folium/templates/leaflet.awesome.rotate.min.css&quot;/&gt;\n",
       "    \n",
       "            &lt;meta name=&quot;viewport&quot; content=&quot;width=device-width,\n",
       "                initial-scale=1.0, maximum-scale=1.0, user-scalable=no&quot; /&gt;\n",
       "            &lt;style&gt;\n",
       "                #map_5871b06799d6d16d3d9069b130fe986c {\n",
       "                    position: relative;\n",
       "                    width: 100.0%;\n",
       "                    height: 100.0%;\n",
       "                    left: 0.0%;\n",
       "                    top: 0.0%;\n",
       "                }\n",
       "                .leaflet-container { font-size: 1rem; }\n",
       "            &lt;/style&gt;\n",
       "        \n",
       "&lt;/head&gt;\n",
       "&lt;body&gt;\n",
       "    \n",
       "    \n",
       "            &lt;div class=&quot;folium-map&quot; id=&quot;map_5871b06799d6d16d3d9069b130fe986c&quot; &gt;&lt;/div&gt;\n",
       "        \n",
       "&lt;/body&gt;\n",
       "&lt;script&gt;\n",
       "    \n",
       "    \n",
       "            var map_5871b06799d6d16d3d9069b130fe986c = L.map(\n",
       "                &quot;map_5871b06799d6d16d3d9069b130fe986c&quot;,\n",
       "                {\n",
       "                    center: [47.8095, 13.055],\n",
       "                    crs: L.CRS.EPSG3857,\n",
       "                    zoom: 13,\n",
       "                    zoomControl: true,\n",
       "                    preferCanvas: false,\n",
       "                }\n",
       "            );\n",
       "\n",
       "            \n",
       "\n",
       "        \n",
       "    \n",
       "            var tile_layer_c6eeddc5acd31689c86cb025485894a9 = L.tileLayer(\n",
       "                &quot;https://{s}.tile.openstreetmap.org/{z}/{x}/{y}.png&quot;,\n",
       "                {&quot;attribution&quot;: &quot;Data by \\u0026copy; \\u003ca target=\\&quot;_blank\\&quot; href=\\&quot;http://openstreetmap.org\\&quot;\\u003eOpenStreetMap\\u003c/a\\u003e, under \\u003ca target=\\&quot;_blank\\&quot; href=\\&quot;http://www.openstreetmap.org/copyright\\&quot;\\u003eODbL\\u003c/a\\u003e.&quot;, &quot;detectRetina&quot;: false, &quot;maxNativeZoom&quot;: 18, &quot;maxZoom&quot;: 18, &quot;minZoom&quot;: 0, &quot;noWrap&quot;: false, &quot;opacity&quot;: 1, &quot;subdomains&quot;: &quot;abc&quot;, &quot;tms&quot;: false}\n",
       "            ).addTo(map_5871b06799d6d16d3d9069b130fe986c);\n",
       "        \n",
       "    \n",
       "            var marker_4bd278c20c09e8ff7bfa28050623a091 = L.marker(\n",
       "                [47.787767, 13.034196],\n",
       "                {}\n",
       "            ).addTo(map_5871b06799d6d16d3d9069b130fe986c);\n",
       "        \n",
       "    \n",
       "        var popup_8a7afc3e31acf32f3f88e3a02512edc0 = L.popup({&quot;maxWidth&quot;: &quot;100%&quot;});\n",
       "\n",
       "        \n",
       "            \n",
       "                var html_8c14e64ba28694911d31dab8ee918387 = $(`&lt;div id=&quot;html_8c14e64ba28694911d31dab8ee918387&quot; style=&quot;width: 100.0%; height: 100.0%;&quot;&gt;Sports complex&lt;/div&gt;`)[0];\n",
       "                popup_8a7afc3e31acf32f3f88e3a02512edc0.setContent(html_8c14e64ba28694911d31dab8ee918387);\n",
       "            \n",
       "        \n",
       "\n",
       "        marker_4bd278c20c09e8ff7bfa28050623a091.bindPopup(popup_8a7afc3e31acf32f3f88e3a02512edc0)\n",
       "        ;\n",
       "\n",
       "        \n",
       "    \n",
       "    \n",
       "            var circle_marker_a4d6565cfe0b877bc6d8a8ccd637eded = L.circleMarker(\n",
       "                [47.787767, 13.034196],\n",
       "                {&quot;bubblingMouseEvents&quot;: true, &quot;color&quot;: &quot;#3388ff&quot;, &quot;dashArray&quot;: null, &quot;dashOffset&quot;: null, &quot;fill&quot;: true, &quot;fillColor&quot;: &quot;#3388ff&quot;, &quot;fillOpacity&quot;: 0.2, &quot;fillRule&quot;: &quot;evenodd&quot;, &quot;lineCap&quot;: &quot;round&quot;, &quot;lineJoin&quot;: &quot;round&quot;, &quot;opacity&quot;: 1.0, &quot;radius&quot;: 50, &quot;stroke&quot;: true, &quot;weight&quot;: 3}\n",
       "            ).addTo(map_5871b06799d6d16d3d9069b130fe986c);\n",
       "        \n",
       "    \n",
       "        var popup_fe8b2c208fdea2c3f104c19dc5716b1c = L.popup({&quot;maxWidth&quot;: &quot;100%&quot;});\n",
       "\n",
       "        \n",
       "            \n",
       "                var html_3eaa9d1d464ca9593db650e142158e2c = $(`&lt;div id=&quot;html_3eaa9d1d464ca9593db650e142158e2c&quot; style=&quot;width: 100.0%; height: 100.0%;&quot;&gt;area&lt;/div&gt;`)[0];\n",
       "                popup_fe8b2c208fdea2c3f104c19dc5716b1c.setContent(html_3eaa9d1d464ca9593db650e142158e2c);\n",
       "            \n",
       "        \n",
       "\n",
       "        circle_marker_a4d6565cfe0b877bc6d8a8ccd637eded.bindPopup(popup_fe8b2c208fdea2c3f104c19dc5716b1c)\n",
       "        ;\n",
       "\n",
       "        \n",
       "    \n",
       "&lt;/script&gt;\n",
       "&lt;/html&gt;\" style=\"position:absolute;width:100%;height:100%;left:0;top:0;border:none !important;\" allowfullscreen webkitallowfullscreen mozallowfullscreen></iframe></div></div>"
      ],
      "text/plain": [
       "<folium.folium.Map at 0x1271560d0>"
      ]
     },
     "execution_count": 3,
     "metadata": {},
     "output_type": "execute_result"
    }
   ],
   "source": [
    "m = folium.Map([47.8095, 13.0550], zoom_start=13)\n",
    "\n",
    "tooltip = \"Welcome\"\n",
    "\n",
    "folium.Marker([47.787767, 13.034196], popup=\"Sports complex\").add_to(m)\n",
    "\n",
    "folium.CircleMarker(\n",
    "    location=[47.787767, 13.034196],\n",
    "    radius=50,\n",
    "    fill=True,\n",
    "    popup=folium.Popup(\"area\"),\n",
    ").add_to(m)\n",
    "\n",
    "ls = folium.PolyLine(\n",
    "    locations=[[47, 10], [47, 7], [47, 10], [47, 10], [43, 10]], color=\"blue\"\n",
    ")\n",
    "\n",
    "m"
   ]
  },
  {
   "cell_type": "markdown",
   "id": "cdd440d4",
   "metadata": {},
   "source": [
    "For this assignment I created a conda environment with two libraries: folium and geopandas. Geopandas could be required later, if there are data on sports places in city available in table format."
   ]
  },
  {
   "cell_type": "code",
   "execution_count": null,
   "id": "89261e08",
   "metadata": {},
   "outputs": [],
   "source": []
  }
 ],
 "metadata": {
  "kernelspec": {
   "display_name": "Python 3 (ipykernel)",
   "language": "python",
   "name": "python3"
  },
  "language_info": {
   "codemirror_mode": {
    "name": "ipython",
    "version": 3
   },
   "file_extension": ".py",
   "mimetype": "text/x-python",
   "name": "python",
   "nbconvert_exporter": "python",
   "pygments_lexer": "ipython3",
   "version": "3.11.4"
  }
 },
 "nbformat": 4,
 "nbformat_minor": 5
}
